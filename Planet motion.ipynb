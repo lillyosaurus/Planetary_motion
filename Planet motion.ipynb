{
 "cells": [
  {
   "cell_type": "markdown",
   "metadata": {},
   "source": [
    "# Model of planetary motion\n",
    "by Timothy Novak"
   ]
  },
  {
   "cell_type": "code",
   "execution_count": 14,
   "metadata": {},
   "outputs": [],
   "source": [
    "# import functions from the modsim.py module\n",
    "from modsim import *"
   ]
  },
  {
   "cell_type": "markdown",
   "metadata": {},
   "source": [
    "The following code initializes the state and system objects for the earth sun system."
   ]
  },
  {
   "cell_type": "code",
   "execution_count": 15,
   "metadata": {},
   "outputs": [
    {
     "data": {
      "text/html": [
       "<div>\n",
       "<style scoped>\n",
       "    .dataframe tbody tr th:only-of-type {\n",
       "        vertical-align: middle;\n",
       "    }\n",
       "\n",
       "    .dataframe tbody tr th {\n",
       "        vertical-align: top;\n",
       "    }\n",
       "\n",
       "    .dataframe thead th {\n",
       "        text-align: right;\n",
       "    }\n",
       "</style>\n",
       "<table border=\"1\" class=\"dataframe\">\n",
       "  <thead>\n",
       "    <tr style=\"text-align: right;\">\n",
       "      <th></th>\n",
       "      <th>values</th>\n",
       "    </tr>\n",
       "  </thead>\n",
       "  <tbody>\n",
       "    <tr>\n",
       "      <th>init</th>\n",
       "      <td>xpos    149597900000\n",
       "ypos               0\n",
       "xvel...</td>\n",
       "    </tr>\n",
       "    <tr>\n",
       "      <th>G</th>\n",
       "      <td>6.67408e-11</td>\n",
       "    </tr>\n",
       "    <tr>\n",
       "      <th>M_earth</th>\n",
       "      <td>5.972e+24</td>\n",
       "    </tr>\n",
       "    <tr>\n",
       "      <th>M_sun</th>\n",
       "      <td>1.989e+30</td>\n",
       "    </tr>\n",
       "    <tr>\n",
       "      <th>R_earth</th>\n",
       "      <td>6.3781e+06</td>\n",
       "    </tr>\n",
       "    <tr>\n",
       "      <th>R_sun</th>\n",
       "      <td>6.957e+08</td>\n",
       "    </tr>\n",
       "    <tr>\n",
       "      <th>t_end</th>\n",
       "      <td>3.15576e+07</td>\n",
       "    </tr>\n",
       "    <tr>\n",
       "      <th>sun_pos</th>\n",
       "      <td>[0 dimensionless, 0 dimensionless]</td>\n",
       "    </tr>\n",
       "  </tbody>\n",
       "</table>\n",
       "</div>"
      ],
      "text/plain": [
       "init       xpos    149597900000\n",
       "ypos               0\n",
       "xvel...\n",
       "G                                                6.67408e-11\n",
       "M_earth                                            5.972e+24\n",
       "M_sun                                              1.989e+30\n",
       "R_earth                                           6.3781e+06\n",
       "R_sun                                              6.957e+08\n",
       "t_end                                            3.15576e+07\n",
       "sun_pos                   [0 dimensionless, 0 dimensionless]\n",
       "dtype: object"
      ]
     },
     "execution_count": 15,
     "metadata": {},
     "output_type": "execute_result"
    }
   ],
   "source": [
    "# State\n",
    "#distance in meteres velocity in m/s\n",
    "st8 = State(xpos = 149597900000, ypos = 0, xvel = 0, yvel = 29000)\n",
    "#System\n",
    "#G = m3 kg-1 s-2 masses are in kg masses are in kg radi are in meteres \n",
    "sys = System(init = st8,G = 6.67408*10**(-11), M_earth = 5.972*10**24, M_sun =1.989*10**30, R_earth = 6.3781*10**6, R_sun= 6.95700*10**8, t_end = 365.25*24*60*60, sun_pos = Vector(0,0))\n"
   ]
  },
  {
   "cell_type": "markdown",
   "metadata": {},
   "source": [
    "The following code describes the functions which constitute the model"
   ]
  },
  {
   "cell_type": "code",
   "execution_count": 24,
   "metadata": {},
   "outputs": [],
   "source": [
    "#model constituant functions\n",
    "def get_force(G,M,m,planet_vector, sun_vector):\n",
    "    \"\"\"Applies law of universal gravitation and returns the force of gravity as a vector towards the center of the circle in N\"\"\"\n",
    "    #calculates the vector pointing from the planet to the sun\n",
    "    planet_to_sun_vector = sun_vector-planet_vector\n",
    "    #takes the direction of the previous vector\n",
    "    Direction_vector = planet_to_sun_vector/planet_to_sun_vector.mag\n",
    "    #calculates the acceleration of the planet\n",
    "    acceleration_mag = (G*M*m)/(planet_vector.mag**2)\n",
    "    #returns a vector which has the magnitude of the acceleration and a direction towards the star\n",
    "    return Direction_vector * acceleration_mag\n",
    "\n",
    "def get_acceleration(G,M,m,planet_vector,sun_vector):\n",
    "    \"\"\"Calculates acceleration with F = ma\n",
    "    F in N\n",
    "    m in kg\n",
    "    a in m/s^2\"\"\"\n",
    "    #gets the force and divides by the orbiting body to get the acceleration of the orbing body\n",
    "    return get_force(G,M,m,planet_vector,sun_vector)/m\n",
    "\n",
    "def planet_slope_func(st8,t,sys):\n",
    "    \"\"\"Describes the change in position and velocity in both the x and y plane between every time step.\n",
    "    The function takes in a state which describes the old position of the system\n",
    "    t is the time of the syatem, it is not actually used in calculations however it is a required argument for use with an ODE Solver\n",
    "    sys is a system object which contains system constants\"\"\"\n",
    "    \n",
    "    #extracts the values from the state because the ODE solver does not store variables in a state object\n",
    "    xpos,ypos,xvel,yvel= st8\n",
    "    #creates a vector which describes the position of the planet\n",
    "    planet_pos = Vector(xpos,ypos)\n",
    "    \n",
    "    #describes a system of differential equations which explain the changes in the system\n",
    "    #update the velocity in each direction\n",
    "    dxveldt = get_acceleration(sys.G, sys.M_sun, sys.M_earth, planet_pos,sys.sun_pos).x\n",
    "    dyveldt = get_acceleration(sys.G, sys.M_sun, sys.M_earth, planet_pos,sys.sun_pos).y\n",
    "    \n",
    "    #update the position in each direction\n",
    "    dxposdt = xvel\n",
    "    dyposdt = yvel\n",
    "    \n",
    "    #returns the change in the state variables\n",
    "    return dxposdt,dyposdt,dxveldt,dyveldt\n"
   ]
  },
  {
   "cell_type": "markdown",
   "metadata": {},
   "source": [
    "The following code runs the simulation and plots the results"
   ]
  },
  {
   "cell_type": "code",
   "execution_count": 25,
   "metadata": {},
   "outputs": [
    {
     "data": {
      "image/png": "[encoded data removed]",
      "text/plain": [
       "<Figure size 432x288 with 1 Axes>"
      ]
     },
     "metadata": {},
     "output_type": "display_data"
    }
   ],
   "source": [
    "#runs an ODE solver to run a simulation and restricts the ODE solver to taking steps with a maximum size of one day\n",
    "results,details = run_ode_solver(sys,planet_slope_func, max_step=60*60*24)\n",
    "\n",
    "#plots the results\n",
    "plot(results.xpos,results.ypos)\n",
    "decorate(title = \"Trajectory of the Earth in Space\", xlabel = \"Position relative to the sun (m)\", ylabel = \"position relative to the sun (m)\")\n"
   ]
  }
 ],
 "metadata": {
  "kernelspec": {
   "display_name": "Python 3",
   "language": "python",
   "name": "python3"
  },
  "language_info": {
   "codemirror_mode": {
    "name": "ipython",
    "version": 3
   },
   "file_extension": ".py",
   "mimetype": "text/x-python",
   "name": "python",
   "nbconvert_exporter": "python",
   "pygments_lexer": "ipython3",
   "version": "3.6.6"
  }
 },
 "nbformat": 4,
 "nbformat_minor": 2
}
